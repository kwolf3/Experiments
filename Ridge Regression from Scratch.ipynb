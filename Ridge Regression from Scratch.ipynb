{
 "cells": [
  {
   "cell_type": "markdown",
   "metadata": {},
   "source": [
    "### This is an experiment following the instructions given in the YouTube video \"Linear Regression Algorithm in Python from Scratch\" by DataQuest. This is the link to the video: https://www.youtube.com/watch?v=mpuKSovz9xM&t=4s. There is also a GitHub page: https://github.com/dataquestio/project-walkthroughs/tree/master/ridge_regression."
   ]
  },
  {
   "cell_type": "markdown",
   "metadata": {},
   "source": [
    "Ridge regression is a lot like linear regression, but there is a penalty added to this equation. This penalty is λ (lambda). As the penalty λ increases, then the y-intercept b<sub>0</sub> stays constant and the coefficient b<sub>1</sub> goes to 0.  \n",
    "  \n",
    "λ helps with collinearity. Hence, ridge regression works well with multicollinearity issues in the data. Multicollinearity is when two or more independent variables in a model are correlated. Multicollinearity typically leads to less reliable models, so it's always good to check the data for this. λ helps with collinearity by penalizing the coefficients."
   ]
  },
  {
   "cell_type": "markdown",
   "metadata": {},
   "source": [
    "Goal for prediction: Given how many athletes are entered into the Olympics for a country, can we predict how many medals they'll win.  \n",
    "  \n",
    "We will use two predictors, or variables, in this model. We will use the number of athletes entered as well as the number of events each country enters their athletes in.\n"
   ]
  },
  {
   "cell_type": "code",
   "execution_count": 13,
   "metadata": {},
   "outputs": [],
   "source": [
    "import pandas as pd\n",
    "import numpy as np\n",
    "import pathlib\n",
    "import matplotlib.pyplot as plt"
   ]
  },
  {
   "cell_type": "code",
   "execution_count": 2,
   "metadata": {},
   "outputs": [
    {
     "data": {
      "text/plain": [
       "PosixPath('/Users/kerstinwolf/DS Projects/GitHub/Experiments/data')"
      ]
     },
     "execution_count": 2,
     "metadata": {},
     "output_type": "execute_result"
    }
   ],
   "source": [
    "data_folder = pathlib.Path.cwd()/'data'\n",
    "data_folder"
   ]
  },
  {
   "cell_type": "code",
   "execution_count": 3,
   "metadata": {},
   "outputs": [
    {
     "data": {
      "text/html": [
       "<div>\n",
       "<style scoped>\n",
       "    .dataframe tbody tr th:only-of-type {\n",
       "        vertical-align: middle;\n",
       "    }\n",
       "\n",
       "    .dataframe tbody tr th {\n",
       "        vertical-align: top;\n",
       "    }\n",
       "\n",
       "    .dataframe thead th {\n",
       "        text-align: right;\n",
       "    }\n",
       "</style>\n",
       "<table border=\"1\" class=\"dataframe\">\n",
       "  <thead>\n",
       "    <tr style=\"text-align: right;\">\n",
       "      <th></th>\n",
       "      <th>team</th>\n",
       "      <th>year</th>\n",
       "      <th>athletes</th>\n",
       "      <th>events</th>\n",
       "      <th>age</th>\n",
       "      <th>height</th>\n",
       "      <th>weight</th>\n",
       "      <th>prev_medals</th>\n",
       "      <th>medals</th>\n",
       "    </tr>\n",
       "  </thead>\n",
       "  <tbody>\n",
       "    <tr>\n",
       "      <th>0</th>\n",
       "      <td>AFG</td>\n",
       "      <td>1964</td>\n",
       "      <td>8</td>\n",
       "      <td>8</td>\n",
       "      <td>22.0</td>\n",
       "      <td>161.0</td>\n",
       "      <td>64.2</td>\n",
       "      <td>0.0</td>\n",
       "      <td>0</td>\n",
       "    </tr>\n",
       "    <tr>\n",
       "      <th>1</th>\n",
       "      <td>AFG</td>\n",
       "      <td>1968</td>\n",
       "      <td>5</td>\n",
       "      <td>5</td>\n",
       "      <td>23.2</td>\n",
       "      <td>170.2</td>\n",
       "      <td>70.0</td>\n",
       "      <td>0.0</td>\n",
       "      <td>0</td>\n",
       "    </tr>\n",
       "    <tr>\n",
       "      <th>2</th>\n",
       "      <td>AFG</td>\n",
       "      <td>1972</td>\n",
       "      <td>8</td>\n",
       "      <td>8</td>\n",
       "      <td>29.0</td>\n",
       "      <td>168.3</td>\n",
       "      <td>63.8</td>\n",
       "      <td>0.0</td>\n",
       "      <td>0</td>\n",
       "    </tr>\n",
       "    <tr>\n",
       "      <th>3</th>\n",
       "      <td>AFG</td>\n",
       "      <td>1980</td>\n",
       "      <td>11</td>\n",
       "      <td>11</td>\n",
       "      <td>23.6</td>\n",
       "      <td>168.4</td>\n",
       "      <td>63.2</td>\n",
       "      <td>0.0</td>\n",
       "      <td>0</td>\n",
       "    </tr>\n",
       "    <tr>\n",
       "      <th>4</th>\n",
       "      <td>AFG</td>\n",
       "      <td>2004</td>\n",
       "      <td>5</td>\n",
       "      <td>5</td>\n",
       "      <td>18.6</td>\n",
       "      <td>170.8</td>\n",
       "      <td>64.8</td>\n",
       "      <td>0.0</td>\n",
       "      <td>0</td>\n",
       "    </tr>\n",
       "    <tr>\n",
       "      <th>...</th>\n",
       "      <td>...</td>\n",
       "      <td>...</td>\n",
       "      <td>...</td>\n",
       "      <td>...</td>\n",
       "      <td>...</td>\n",
       "      <td>...</td>\n",
       "      <td>...</td>\n",
       "      <td>...</td>\n",
       "      <td>...</td>\n",
       "    </tr>\n",
       "    <tr>\n",
       "      <th>2009</th>\n",
       "      <td>ZIM</td>\n",
       "      <td>2000</td>\n",
       "      <td>26</td>\n",
       "      <td>19</td>\n",
       "      <td>25.0</td>\n",
       "      <td>179.0</td>\n",
       "      <td>71.1</td>\n",
       "      <td>0.0</td>\n",
       "      <td>0</td>\n",
       "    </tr>\n",
       "    <tr>\n",
       "      <th>2010</th>\n",
       "      <td>ZIM</td>\n",
       "      <td>2004</td>\n",
       "      <td>14</td>\n",
       "      <td>11</td>\n",
       "      <td>25.1</td>\n",
       "      <td>177.8</td>\n",
       "      <td>70.5</td>\n",
       "      <td>0.0</td>\n",
       "      <td>3</td>\n",
       "    </tr>\n",
       "    <tr>\n",
       "      <th>2011</th>\n",
       "      <td>ZIM</td>\n",
       "      <td>2008</td>\n",
       "      <td>16</td>\n",
       "      <td>15</td>\n",
       "      <td>26.1</td>\n",
       "      <td>171.9</td>\n",
       "      <td>63.7</td>\n",
       "      <td>3.0</td>\n",
       "      <td>4</td>\n",
       "    </tr>\n",
       "    <tr>\n",
       "      <th>2012</th>\n",
       "      <td>ZIM</td>\n",
       "      <td>2012</td>\n",
       "      <td>9</td>\n",
       "      <td>8</td>\n",
       "      <td>27.3</td>\n",
       "      <td>174.4</td>\n",
       "      <td>65.2</td>\n",
       "      <td>4.0</td>\n",
       "      <td>0</td>\n",
       "    </tr>\n",
       "    <tr>\n",
       "      <th>2013</th>\n",
       "      <td>ZIM</td>\n",
       "      <td>2016</td>\n",
       "      <td>31</td>\n",
       "      <td>13</td>\n",
       "      <td>27.5</td>\n",
       "      <td>167.8</td>\n",
       "      <td>62.2</td>\n",
       "      <td>0.0</td>\n",
       "      <td>0</td>\n",
       "    </tr>\n",
       "  </tbody>\n",
       "</table>\n",
       "<p>2014 rows × 9 columns</p>\n",
       "</div>"
      ],
      "text/plain": [
       "     team  year  athletes  events   age  height  weight  prev_medals  medals\n",
       "0     AFG  1964         8       8  22.0   161.0    64.2          0.0       0\n",
       "1     AFG  1968         5       5  23.2   170.2    70.0          0.0       0\n",
       "2     AFG  1972         8       8  29.0   168.3    63.8          0.0       0\n",
       "3     AFG  1980        11      11  23.6   168.4    63.2          0.0       0\n",
       "4     AFG  2004         5       5  18.6   170.8    64.8          0.0       0\n",
       "...   ...   ...       ...     ...   ...     ...     ...          ...     ...\n",
       "2009  ZIM  2000        26      19  25.0   179.0    71.1          0.0       0\n",
       "2010  ZIM  2004        14      11  25.1   177.8    70.5          0.0       3\n",
       "2011  ZIM  2008        16      15  26.1   171.9    63.7          3.0       4\n",
       "2012  ZIM  2012         9       8  27.3   174.4    65.2          4.0       0\n",
       "2013  ZIM  2016        31      13  27.5   167.8    62.2          0.0       0\n",
       "\n",
       "[2014 rows x 9 columns]"
      ]
     },
     "execution_count": 3,
     "metadata": {},
     "output_type": "execute_result"
    }
   ],
   "source": [
    "teams = pd.read_csv(data_folder/'teams.csv')\n",
    "teams"
   ]
  },
  {
   "cell_type": "code",
   "execution_count": 4,
   "metadata": {
    "scrolled": true
   },
   "outputs": [
    {
     "data": {
      "text/plain": [
       "Text(0, 0.5, 'Events')"
      ]
     },
     "execution_count": 4,
     "metadata": {},
     "output_type": "execute_result"
    },
    {
     "data": {
      "image/png": "[encoded data removed]",
      "text/plain": [
       "<Figure size 432x288 with 1 Axes>"
      ]
     },
     "metadata": {
      "needs_background": "light"
     },
     "output_type": "display_data"
    }
   ],
   "source": [
    "# check for colinearity - very collinear (highly correlated)\n",
    "plt.scatter(teams[['athletes']], teams[['events']])\n",
    "plt.xlabel('Athletes')\n",
    "plt.ylabel('Events')"
   ]
  },
  {
   "cell_type": "markdown",
   "metadata": {},
   "source": [
    "Experiment time! Ignoring the colinearity for now, let's see what would happen if I just did a linear regression with these variables."
   ]
  },
  {
   "cell_type": "code",
   "execution_count": 8,
   "metadata": {},
   "outputs": [
    {
     "data": {
      "text/plain": [
       "LinearRegression()"
      ]
     },
     "execution_count": 8,
     "metadata": {},
     "output_type": "execute_result"
    }
   ],
   "source": [
    "from sklearn.linear_model import LinearRegression\n",
    "lr = LinearRegression()\n",
    "lr.fit(teams[['athletes', 'events']], teams[['medals']])"
   ]
  },
  {
   "cell_type": "code",
   "execution_count": 9,
   "metadata": {},
   "outputs": [
    {
     "data": {
      "text/plain": [
       "array([0.18800573])"
      ]
     },
     "execution_count": 9,
     "metadata": {},
     "output_type": "execute_result"
    }
   ],
   "source": [
    "lr.intercept_"
   ]
  },
  {
   "cell_type": "code",
   "execution_count": 11,
   "metadata": {},
   "outputs": [
    {
     "data": {
      "text/plain": [
       "array([[ 0.48837038, -0.71791314]])"
      ]
     },
     "execution_count": 11,
     "metadata": {},
     "output_type": "execute_result"
    }
   ],
   "source": [
    "lr.coef_"
   ]
  },
  {
   "cell_type": "markdown",
   "metadata": {},
   "source": [
    "As can be seen above, the coefficient for athletes (b<sub>1</sub>) is about 0.488, and the coefficient for events (b<sub>2</sub>) is about -0.718. This means that for every athlete entered into the Olympics, we expect 0.488 medals. But for every event a country enters in, it is expected that they will lose 0.718 medals. This doesn't make much sense! This is because athletes and events are highly correlated (as seen earlier). Linear regressions can't handle colinearity well. The model will look great when training, but when you go to predict later on, the data won't fit at all. That's where ridge regression comes in! That ridge penality λ will keep the y-intercept the same and shift the coefficients (b<sub>1</sub>, b<sub>2</sub>, etc) towards 0. Of course, it is important to not increase λ too much or else you run the risk of making the coefficients too small and underfitting the data. As the person in the YouTube video said, \"the ridge penalty reduces overfitting when predictor variables are collinear.\""
   ]
  },
  {
   "cell_type": "markdown",
   "metadata": {},
   "source": [
    "For more details about the math (linear algebra) behind ridge regression, watch the YouTube video linked at the top. Since the formula is very similar to a linear regression, I'd also recommend watching the linear regression video (https://www.youtube.com/watch?v=z2hpinQggNM) first to understand the math that led to this point."
   ]
  },
  {
   "cell_type": "markdown",
   "metadata": {},
   "source": [
    "This is a formula for linear regression (I know it looks totally different than what I normally think of for linear regression. This is why you need to watch the linear regression video!): <br/>\n",
    "B = (X<sup>T</sup> X)<sup>-1</sup> X<sup>T</sup> y <br/>\n",
    "X<sup>T</sup> is X transposed (basically, dataframe of coefficients pushed over so the index is the column headers and vice versa.  \n",
    "The -1 means that it's inverse  \n",
    "  \n",
    "Ridge regression formula: <br/>\n",
    "(X<sup>T</sup> X + λ I)<sup>-1</sup> X<sup>T</sup> y <br/>\n",
    "λ is the ridge regression penalty  \n",
    "I is the identity matrix (see linear regression video: https://www.youtube.com/watch?v=z2hpinQggNM). I should note that this I is not a completely true identity matrix since we don't want to penalize the y-intercept. This is discussed in the ridge regression video.  \n",
    "  \n",
    "Before using this formula on the data, you first need to standardize the daata so that the standard deviation is 1 and the mean is 0. You do this by subtracting the mean from each column and dividing each column by the standard deviation. We do this because we want the λ to be about on the same scale as the variables."
   ]
  },
  {
   "cell_type": "markdown",
   "metadata": {},
   "source": [
    "Ridge regression is good for reducing overfitting (in the case of collinearity) and enables matrix inversion (when one column is a multple of another column)."
   ]
  },
  {
   "cell_type": "code",
   "execution_count": 18,
   "metadata": {},
   "outputs": [],
   "source": [
    "from sklearn.model_selection import train_test_split"
   ]
  },
  {
   "cell_type": "code",
   "execution_count": 19,
   "metadata": {},
   "outputs": [],
   "source": [
    "# creating the train and test set\n",
    "# test set is 20% of the entire dataset\n",
    "# random_state is setting the random seed\n",
    "train, test = train_test_split(teams, test_size = 0.2, random_state = 1)"
   ]
  },
  {
   "cell_type": "code",
   "execution_count": 20,
   "metadata": {},
   "outputs": [],
   "source": [
    "predictors = ['athletes', 'events']\n",
    "target = 'medals'"
   ]
  },
  {
   "cell_type": "code",
   "execution_count": 21,
   "metadata": {},
   "outputs": [
    {
     "data": {
      "text/html": [
       "<div>\n",
       "<style scoped>\n",
       "    .dataframe tbody tr th:only-of-type {\n",
       "        vertical-align: middle;\n",
       "    }\n",
       "\n",
       "    .dataframe tbody tr th {\n",
       "        vertical-align: top;\n",
       "    }\n",
       "\n",
       "    .dataframe thead th {\n",
       "        text-align: right;\n",
       "    }\n",
       "</style>\n",
       "<table border=\"1\" class=\"dataframe\">\n",
       "  <thead>\n",
       "    <tr style=\"text-align: right;\">\n",
       "      <th></th>\n",
       "      <th>athletes</th>\n",
       "      <th>events</th>\n",
       "    </tr>\n",
       "  </thead>\n",
       "  <tbody>\n",
       "    <tr>\n",
       "      <th>1322</th>\n",
       "      <td>6</td>\n",
       "      <td>6</td>\n",
       "    </tr>\n",
       "    <tr>\n",
       "      <th>1872</th>\n",
       "      <td>119</td>\n",
       "      <td>80</td>\n",
       "    </tr>\n",
       "    <tr>\n",
       "      <th>953</th>\n",
       "      <td>4</td>\n",
       "      <td>4</td>\n",
       "    </tr>\n",
       "    <tr>\n",
       "      <th>1117</th>\n",
       "      <td>2</td>\n",
       "      <td>2</td>\n",
       "    </tr>\n",
       "    <tr>\n",
       "      <th>1993</th>\n",
       "      <td>43</td>\n",
       "      <td>25</td>\n",
       "    </tr>\n",
       "    <tr>\n",
       "      <th>...</th>\n",
       "      <td>...</td>\n",
       "      <td>...</td>\n",
       "    </tr>\n",
       "    <tr>\n",
       "      <th>1791</th>\n",
       "      <td>40</td>\n",
       "      <td>25</td>\n",
       "    </tr>\n",
       "    <tr>\n",
       "      <th>1096</th>\n",
       "      <td>36</td>\n",
       "      <td>23</td>\n",
       "    </tr>\n",
       "    <tr>\n",
       "      <th>1932</th>\n",
       "      <td>719</td>\n",
       "      <td>245</td>\n",
       "    </tr>\n",
       "    <tr>\n",
       "      <th>235</th>\n",
       "      <td>13</td>\n",
       "      <td>11</td>\n",
       "    </tr>\n",
       "    <tr>\n",
       "      <th>1061</th>\n",
       "      <td>50</td>\n",
       "      <td>38</td>\n",
       "    </tr>\n",
       "  </tbody>\n",
       "</table>\n",
       "<p>1611 rows × 2 columns</p>\n",
       "</div>"
      ],
      "text/plain": [
       "      athletes  events\n",
       "1322         6       6\n",
       "1872       119      80\n",
       "953          4       4\n",
       "1117         2       2\n",
       "1993        43      25\n",
       "...        ...     ...\n",
       "1791        40      25\n",
       "1096        36      23\n",
       "1932       719     245\n",
       "235         13      11\n",
       "1061        50      38\n",
       "\n",
       "[1611 rows x 2 columns]"
      ]
     },
     "execution_count": 21,
     "metadata": {},
     "output_type": "execute_result"
    }
   ],
   "source": [
    "# the .cpoy() is used to avoid the pandas Setting with Copy Warning (https://towardsdatascience.com/3-solutions-for-the-setting-with-copy-warning-of-python-pandas-dfe15d62de08)\n",
    "X = train[predictors].copy()\n",
    "X"
   ]
  },
  {
   "cell_type": "code",
   "execution_count": 23,
   "metadata": {},
   "outputs": [
    {
     "data": {
      "text/html": [
       "<div>\n",
       "<style scoped>\n",
       "    .dataframe tbody tr th:only-of-type {\n",
       "        vertical-align: middle;\n",
       "    }\n",
       "\n",
       "    .dataframe tbody tr th {\n",
       "        vertical-align: top;\n",
       "    }\n",
       "\n",
       "    .dataframe thead th {\n",
       "        text-align: right;\n",
       "    }\n",
       "</style>\n",
       "<table border=\"1\" class=\"dataframe\">\n",
       "  <thead>\n",
       "    <tr style=\"text-align: right;\">\n",
       "      <th></th>\n",
       "      <th>medals</th>\n",
       "    </tr>\n",
       "  </thead>\n",
       "  <tbody>\n",
       "    <tr>\n",
       "      <th>1322</th>\n",
       "      <td>0</td>\n",
       "    </tr>\n",
       "    <tr>\n",
       "      <th>1872</th>\n",
       "      <td>5</td>\n",
       "    </tr>\n",
       "    <tr>\n",
       "      <th>953</th>\n",
       "      <td>0</td>\n",
       "    </tr>\n",
       "    <tr>\n",
       "      <th>1117</th>\n",
       "      <td>0</td>\n",
       "    </tr>\n",
       "    <tr>\n",
       "      <th>1993</th>\n",
       "      <td>0</td>\n",
       "    </tr>\n",
       "    <tr>\n",
       "      <th>...</th>\n",
       "      <td>...</td>\n",
       "    </tr>\n",
       "    <tr>\n",
       "      <th>1791</th>\n",
       "      <td>1</td>\n",
       "    </tr>\n",
       "    <tr>\n",
       "      <th>1096</th>\n",
       "      <td>1</td>\n",
       "    </tr>\n",
       "    <tr>\n",
       "      <th>1932</th>\n",
       "      <td>264</td>\n",
       "    </tr>\n",
       "    <tr>\n",
       "      <th>235</th>\n",
       "      <td>0</td>\n",
       "    </tr>\n",
       "    <tr>\n",
       "      <th>1061</th>\n",
       "      <td>3</td>\n",
       "    </tr>\n",
       "  </tbody>\n",
       "</table>\n",
       "<p>1611 rows × 1 columns</p>\n",
       "</div>"
      ],
      "text/plain": [
       "      medals\n",
       "1322       0\n",
       "1872       5\n",
       "953        0\n",
       "1117       0\n",
       "1993       0\n",
       "...      ...\n",
       "1791       1\n",
       "1096       1\n",
       "1932     264\n",
       "235        0\n",
       "1061       3\n",
       "\n",
       "[1611 rows x 1 columns]"
      ]
     },
     "execution_count": 23,
     "metadata": {},
     "output_type": "execute_result"
    }
   ],
   "source": [
    "y = train[[target]].copy()\n",
    "y"
   ]
  },
  {
   "cell_type": "code",
   "execution_count": 27,
   "metadata": {},
   "outputs": [],
   "source": [
    "# Get info to use for standardizing the data\n",
    "x_mean = X.mean()\n",
    "x_std = X.std()"
   ]
  },
  {
   "cell_type": "code",
   "execution_count": 28,
   "metadata": {},
   "outputs": [
    {
     "data": {
      "text/plain": [
       "athletes    74.409063\n",
       "events      35.990068\n",
       "dtype: float64"
      ]
     },
     "execution_count": 28,
     "metadata": {},
     "output_type": "execute_result"
    }
   ],
   "source": [
    "x_mean"
   ]
  },
  {
   "cell_type": "code",
   "execution_count": 29,
   "metadata": {},
   "outputs": [
    {
     "data": {
      "text/plain": [
       "athletes    127.250043\n",
       "events       48.978737\n",
       "dtype: float64"
      ]
     },
     "execution_count": 29,
     "metadata": {},
     "output_type": "execute_result"
    }
   ],
   "source": [
    "x_std"
   ]
  },
  {
   "cell_type": "code",
   "execution_count": 30,
   "metadata": {},
   "outputs": [],
   "source": [
    "# Standardize the data\n",
    "X = (X - x_mean) / x_std"
   ]
  },
  {
   "cell_type": "code",
   "execution_count": 31,
   "metadata": {},
   "outputs": [
    {
     "data": {
      "text/html": [
       "<div>\n",
       "<style scoped>\n",
       "    .dataframe tbody tr th:only-of-type {\n",
       "        vertical-align: middle;\n",
       "    }\n",
       "\n",
       "    .dataframe tbody tr th {\n",
       "        vertical-align: top;\n",
       "    }\n",
       "\n",
       "    .dataframe thead th {\n",
       "        text-align: right;\n",
       "    }\n",
       "</style>\n",
       "<table border=\"1\" class=\"dataframe\">\n",
       "  <thead>\n",
       "    <tr style=\"text-align: right;\">\n",
       "      <th></th>\n",
       "      <th>athletes</th>\n",
       "      <th>events</th>\n",
       "    </tr>\n",
       "  </thead>\n",
       "  <tbody>\n",
       "    <tr>\n",
       "      <th>count</th>\n",
       "      <td>1.611000e+03</td>\n",
       "      <td>1.611000e+03</td>\n",
       "    </tr>\n",
       "    <tr>\n",
       "      <th>mean</th>\n",
       "      <td>-1.338677e-17</td>\n",
       "      <td>1.287852e-18</td>\n",
       "    </tr>\n",
       "    <tr>\n",
       "      <th>std</th>\n",
       "      <td>1.000000e+00</td>\n",
       "      <td>1.000000e+00</td>\n",
       "    </tr>\n",
       "    <tr>\n",
       "      <th>min</th>\n",
       "      <td>-5.768883e-01</td>\n",
       "      <td>-7.143930e-01</td>\n",
       "    </tr>\n",
       "    <tr>\n",
       "      <th>25%</th>\n",
       "      <td>-5.297371e-01</td>\n",
       "      <td>-6.123079e-01</td>\n",
       "    </tr>\n",
       "    <tr>\n",
       "      <th>50%</th>\n",
       "      <td>-4.197174e-01</td>\n",
       "      <td>-4.489717e-01</td>\n",
       "    </tr>\n",
       "    <tr>\n",
       "      <th>75%</th>\n",
       "      <td>-2.679027e-02</td>\n",
       "      <td>1.839560e-01</td>\n",
       "    </tr>\n",
       "    <tr>\n",
       "      <th>max</th>\n",
       "      <td>6.008571e+00</td>\n",
       "      <td>4.634867e+00</td>\n",
       "    </tr>\n",
       "  </tbody>\n",
       "</table>\n",
       "</div>"
      ],
      "text/plain": [
       "           athletes        events\n",
       "count  1.611000e+03  1.611000e+03\n",
       "mean  -1.338677e-17  1.287852e-18\n",
       "std    1.000000e+00  1.000000e+00\n",
       "min   -5.768883e-01 -7.143930e-01\n",
       "25%   -5.297371e-01 -6.123079e-01\n",
       "50%   -4.197174e-01 -4.489717e-01\n",
       "75%   -2.679027e-02  1.839560e-01\n",
       "max    6.008571e+00  4.634867e+00"
      ]
     },
     "execution_count": 31,
     "metadata": {},
     "output_type": "execute_result"
    }
   ],
   "source": [
    "# When the data is standardized, you should notice that the mean is basically 0 and standard deviation should be 1.\n",
    "X.describe()"
   ]
  },
  {
   "cell_type": "code",
   "execution_count": 32,
   "metadata": {},
   "outputs": [
    {
     "data": {
      "text/html": [
       "<div>\n",
       "<style scoped>\n",
       "    .dataframe tbody tr th:only-of-type {\n",
       "        vertical-align: middle;\n",
       "    }\n",
       "\n",
       "    .dataframe tbody tr th {\n",
       "        vertical-align: top;\n",
       "    }\n",
       "\n",
       "    .dataframe thead th {\n",
       "        text-align: right;\n",
       "    }\n",
       "</style>\n",
       "<table border=\"1\" class=\"dataframe\">\n",
       "  <thead>\n",
       "    <tr style=\"text-align: right;\">\n",
       "      <th></th>\n",
       "      <th>intercept</th>\n",
       "      <th>athletes</th>\n",
       "      <th>events</th>\n",
       "    </tr>\n",
       "  </thead>\n",
       "  <tbody>\n",
       "    <tr>\n",
       "      <th>1322</th>\n",
       "      <td>1</td>\n",
       "      <td>-0.537596</td>\n",
       "      <td>-0.612308</td>\n",
       "    </tr>\n",
       "    <tr>\n",
       "      <th>1872</th>\n",
       "      <td>1</td>\n",
       "      <td>0.350420</td>\n",
       "      <td>0.898552</td>\n",
       "    </tr>\n",
       "    <tr>\n",
       "      <th>953</th>\n",
       "      <td>1</td>\n",
       "      <td>-0.553313</td>\n",
       "      <td>-0.653142</td>\n",
       "    </tr>\n",
       "    <tr>\n",
       "      <th>1117</th>\n",
       "      <td>1</td>\n",
       "      <td>-0.569030</td>\n",
       "      <td>-0.693976</td>\n",
       "    </tr>\n",
       "    <tr>\n",
       "      <th>1993</th>\n",
       "      <td>1</td>\n",
       "      <td>-0.246829</td>\n",
       "      <td>-0.224384</td>\n",
       "    </tr>\n",
       "    <tr>\n",
       "      <th>...</th>\n",
       "      <td>...</td>\n",
       "      <td>...</td>\n",
       "      <td>...</td>\n",
       "    </tr>\n",
       "    <tr>\n",
       "      <th>1791</th>\n",
       "      <td>1</td>\n",
       "      <td>-0.270405</td>\n",
       "      <td>-0.224384</td>\n",
       "    </tr>\n",
       "    <tr>\n",
       "      <th>1096</th>\n",
       "      <td>1</td>\n",
       "      <td>-0.301839</td>\n",
       "      <td>-0.265219</td>\n",
       "    </tr>\n",
       "    <tr>\n",
       "      <th>1932</th>\n",
       "      <td>1</td>\n",
       "      <td>5.065546</td>\n",
       "      <td>4.267361</td>\n",
       "    </tr>\n",
       "    <tr>\n",
       "      <th>235</th>\n",
       "      <td>1</td>\n",
       "      <td>-0.482586</td>\n",
       "      <td>-0.510223</td>\n",
       "    </tr>\n",
       "    <tr>\n",
       "      <th>1061</th>\n",
       "      <td>1</td>\n",
       "      <td>-0.191820</td>\n",
       "      <td>0.041037</td>\n",
       "    </tr>\n",
       "  </tbody>\n",
       "</table>\n",
       "<p>1611 rows × 3 columns</p>\n",
       "</div>"
      ],
      "text/plain": [
       "      intercept  athletes    events\n",
       "1322          1 -0.537596 -0.612308\n",
       "1872          1  0.350420  0.898552\n",
       "953           1 -0.553313 -0.653142\n",
       "1117          1 -0.569030 -0.693976\n",
       "1993          1 -0.246829 -0.224384\n",
       "...         ...       ...       ...\n",
       "1791          1 -0.270405 -0.224384\n",
       "1096          1 -0.301839 -0.265219\n",
       "1932          1  5.065546  4.267361\n",
       "235           1 -0.482586 -0.510223\n",
       "1061          1 -0.191820  0.041037\n",
       "\n",
       "[1611 rows x 3 columns]"
      ]
     },
     "execution_count": 32,
     "metadata": {},
     "output_type": "execute_result"
    }
   ],
   "source": [
    "# Add the intercept column\n",
    "X['intercept'] = 1\n",
    "X = X[['intercept'] + predictors]\n",
    "X"
   ]
  },
  {
   "cell_type": "code",
   "execution_count": 34,
   "metadata": {},
   "outputs": [
    {
     "data": {
      "text/html": [
       "<div>\n",
       "<style scoped>\n",
       "    .dataframe tbody tr th:only-of-type {\n",
       "        vertical-align: middle;\n",
       "    }\n",
       "\n",
       "    .dataframe tbody tr th {\n",
       "        vertical-align: top;\n",
       "    }\n",
       "\n",
       "    .dataframe thead th {\n",
       "        text-align: right;\n",
       "    }\n",
       "</style>\n",
       "<table border=\"1\" class=\"dataframe\">\n",
       "  <thead>\n",
       "    <tr style=\"text-align: right;\">\n",
       "      <th></th>\n",
       "      <th>1322</th>\n",
       "      <th>1872</th>\n",
       "      <th>953</th>\n",
       "      <th>1117</th>\n",
       "      <th>1993</th>\n",
       "      <th>385</th>\n",
       "      <th>1287</th>\n",
       "      <th>1831</th>\n",
       "      <th>0</th>\n",
       "      <th>1159</th>\n",
       "      <th>...</th>\n",
       "      <th>960</th>\n",
       "      <th>847</th>\n",
       "      <th>1669</th>\n",
       "      <th>715</th>\n",
       "      <th>905</th>\n",
       "      <th>1791</th>\n",
       "      <th>1096</th>\n",
       "      <th>1932</th>\n",
       "      <th>235</th>\n",
       "      <th>1061</th>\n",
       "    </tr>\n",
       "  </thead>\n",
       "  <tbody>\n",
       "    <tr>\n",
       "      <th>intercept</th>\n",
       "      <td>1.000000</td>\n",
       "      <td>1.000000</td>\n",
       "      <td>1.000000</td>\n",
       "      <td>1.000000</td>\n",
       "      <td>1.000000</td>\n",
       "      <td>1.000000</td>\n",
       "      <td>1.000000</td>\n",
       "      <td>1.000000</td>\n",
       "      <td>1.000000</td>\n",
       "      <td>1.000000</td>\n",
       "      <td>...</td>\n",
       "      <td>1.000000</td>\n",
       "      <td>1.000000</td>\n",
       "      <td>1.000000</td>\n",
       "      <td>1.000000</td>\n",
       "      <td>1.000000</td>\n",
       "      <td>1.000000</td>\n",
       "      <td>1.000000</td>\n",
       "      <td>1.000000</td>\n",
       "      <td>1.000000</td>\n",
       "      <td>1.000000</td>\n",
       "    </tr>\n",
       "    <tr>\n",
       "      <th>athletes</th>\n",
       "      <td>-0.537596</td>\n",
       "      <td>0.350420</td>\n",
       "      <td>-0.553313</td>\n",
       "      <td>-0.569030</td>\n",
       "      <td>-0.246829</td>\n",
       "      <td>-0.482586</td>\n",
       "      <td>-0.537596</td>\n",
       "      <td>0.138239</td>\n",
       "      <td>-0.521879</td>\n",
       "      <td>-0.152527</td>\n",
       "      <td>...</td>\n",
       "      <td>-0.199678</td>\n",
       "      <td>-0.160386</td>\n",
       "      <td>-0.529737</td>\n",
       "      <td>-0.529737</td>\n",
       "      <td>-0.341132</td>\n",
       "      <td>-0.270405</td>\n",
       "      <td>-0.301839</td>\n",
       "      <td>5.065546</td>\n",
       "      <td>-0.482586</td>\n",
       "      <td>-0.191820</td>\n",
       "    </tr>\n",
       "    <tr>\n",
       "      <th>events</th>\n",
       "      <td>-0.612308</td>\n",
       "      <td>0.898552</td>\n",
       "      <td>-0.653142</td>\n",
       "      <td>-0.693976</td>\n",
       "      <td>-0.224384</td>\n",
       "      <td>-0.571474</td>\n",
       "      <td>-0.612308</td>\n",
       "      <td>0.102288</td>\n",
       "      <td>-0.571474</td>\n",
       "      <td>-0.163133</td>\n",
       "      <td>...</td>\n",
       "      <td>-0.285636</td>\n",
       "      <td>-0.101882</td>\n",
       "      <td>-0.612308</td>\n",
       "      <td>-0.591891</td>\n",
       "      <td>-0.367304</td>\n",
       "      <td>-0.224384</td>\n",
       "      <td>-0.265219</td>\n",
       "      <td>4.267361</td>\n",
       "      <td>-0.510223</td>\n",
       "      <td>0.041037</td>\n",
       "    </tr>\n",
       "  </tbody>\n",
       "</table>\n",
       "<p>3 rows × 1611 columns</p>\n",
       "</div>"
      ],
      "text/plain": [
       "               1322      1872      953       1117      1993      385   \\\n",
       "intercept  1.000000  1.000000  1.000000  1.000000  1.000000  1.000000   \n",
       "athletes  -0.537596  0.350420 -0.553313 -0.569030 -0.246829 -0.482586   \n",
       "events    -0.612308  0.898552 -0.653142 -0.693976 -0.224384 -0.571474   \n",
       "\n",
       "               1287      1831      0         1159  ...      960       847   \\\n",
       "intercept  1.000000  1.000000  1.000000  1.000000  ...  1.000000  1.000000   \n",
       "athletes  -0.537596  0.138239 -0.521879 -0.152527  ... -0.199678 -0.160386   \n",
       "events    -0.612308  0.102288 -0.571474 -0.163133  ... -0.285636 -0.101882   \n",
       "\n",
       "               1669      715       905       1791      1096      1932  \\\n",
       "intercept  1.000000  1.000000  1.000000  1.000000  1.000000  1.000000   \n",
       "athletes  -0.529737 -0.529737 -0.341132 -0.270405 -0.301839  5.065546   \n",
       "events    -0.612308 -0.591891 -0.367304 -0.224384 -0.265219  4.267361   \n",
       "\n",
       "               235       1061  \n",
       "intercept  1.000000  1.000000  \n",
       "athletes  -0.482586 -0.191820  \n",
       "events    -0.510223  0.041037  \n",
       "\n",
       "[3 rows x 1611 columns]"
      ]
     },
     "execution_count": 34,
     "metadata": {},
     "output_type": "execute_result"
    }
   ],
   "source": [
    "X.T"
   ]
  },
  {
   "cell_type": "code",
   "execution_count": 36,
   "metadata": {},
   "outputs": [],
   "source": [
    "# lambda (λ) will be known as alpha in the code since lambda is a keyword in python to define an anonymous function, so we can't use it as a variable.\n",
    "alpha = 2\n",
    "I = np.identity(X.shape[1])"
   ]
  },
  {
   "cell_type": "code",
   "execution_count": 37,
   "metadata": {},
   "outputs": [
    {
     "data": {
      "text/plain": [
       "array([[1., 0., 0.],\n",
       "       [0., 1., 0.],\n",
       "       [0., 0., 1.]])"
      ]
     },
     "execution_count": 37,
     "metadata": {},
     "output_type": "execute_result"
    }
   ],
   "source": [
    "I"
   ]
  },
  {
   "cell_type": "code",
   "execution_count": 38,
   "metadata": {},
   "outputs": [
    {
     "data": {
      "text/plain": [
       "array([[0., 0., 0.],\n",
       "       [0., 1., 0.],\n",
       "       [0., 0., 1.]])"
      ]
     },
     "execution_count": 38,
     "metadata": {},
     "output_type": "execute_result"
    }
   ],
   "source": [
    "I[0][0] = 0\n",
    "I"
   ]
  },
  {
   "cell_type": "code",
   "execution_count": 39,
   "metadata": {},
   "outputs": [
    {
     "data": {
      "text/plain": [
       "array([[0., 0., 0.],\n",
       "       [0., 2., 0.],\n",
       "       [0., 0., 2.]])"
      ]
     },
     "execution_count": 39,
     "metadata": {},
     "output_type": "execute_result"
    }
   ],
   "source": [
    "penalty = alpha * I\n",
    "penalty"
   ]
  },
  {
   "cell_type": "code",
   "execution_count": 40,
   "metadata": {},
   "outputs": [
    {
     "data": {
      "text/html": [
       "<div>\n",
       "<style scoped>\n",
       "    .dataframe tbody tr th:only-of-type {\n",
       "        vertical-align: middle;\n",
       "    }\n",
       "\n",
       "    .dataframe tbody tr th {\n",
       "        vertical-align: top;\n",
       "    }\n",
       "\n",
       "    .dataframe thead th {\n",
       "        text-align: right;\n",
       "    }\n",
       "</style>\n",
       "<table border=\"1\" class=\"dataframe\">\n",
       "  <thead>\n",
       "    <tr style=\"text-align: right;\">\n",
       "      <th></th>\n",
       "      <th>medals</th>\n",
       "    </tr>\n",
       "  </thead>\n",
       "  <tbody>\n",
       "    <tr>\n",
       "      <th>0</th>\n",
       "      <td>10.691496</td>\n",
       "    </tr>\n",
       "    <tr>\n",
       "      <th>1</th>\n",
       "      <td>61.857734</td>\n",
       "    </tr>\n",
       "    <tr>\n",
       "      <th>2</th>\n",
       "      <td>-34.632920</td>\n",
       "    </tr>\n",
       "  </tbody>\n",
       "</table>\n",
       "</div>"
      ],
      "text/plain": [
       "      medals\n",
       "0  10.691496\n",
       "1  61.857734\n",
       "2 -34.632920"
      ]
     },
     "execution_count": 40,
     "metadata": {},
     "output_type": "execute_result"
    }
   ],
   "source": [
    "# the formula that will give the ridge regression coefficients\n",
    "# @ is matrix multiplication\n",
    "# 0 = y-intercept, 1 = b1 (athletes), 2 = b2 (events)\n",
    "B = np.linalg.inv(X.T @ X + penalty) @ X.T @ y\n",
    "B"
   ]
  },
  {
   "cell_type": "code",
   "execution_count": 42,
   "metadata": {},
   "outputs": [
    {
     "data": {
      "text/html": [
       "<div>\n",
       "<style scoped>\n",
       "    .dataframe tbody tr th:only-of-type {\n",
       "        vertical-align: middle;\n",
       "    }\n",
       "\n",
       "    .dataframe tbody tr th {\n",
       "        vertical-align: top;\n",
       "    }\n",
       "\n",
       "    .dataframe thead th {\n",
       "        text-align: right;\n",
       "    }\n",
       "</style>\n",
       "<table border=\"1\" class=\"dataframe\">\n",
       "  <thead>\n",
       "    <tr style=\"text-align: right;\">\n",
       "      <th></th>\n",
       "      <th>medals</th>\n",
       "    </tr>\n",
       "  </thead>\n",
       "  <tbody>\n",
       "    <tr>\n",
       "      <th>intercept</th>\n",
       "      <td>10.691496</td>\n",
       "    </tr>\n",
       "    <tr>\n",
       "      <th>athletes</th>\n",
       "      <td>61.857734</td>\n",
       "    </tr>\n",
       "    <tr>\n",
       "      <th>events</th>\n",
       "      <td>-34.632920</td>\n",
       "    </tr>\n",
       "  </tbody>\n",
       "</table>\n",
       "</div>"
      ],
      "text/plain": [
       "              medals\n",
       "intercept  10.691496\n",
       "athletes   61.857734\n",
       "events    -34.632920"
      ]
     },
     "execution_count": 42,
     "metadata": {},
     "output_type": "execute_result"
    }
   ],
   "source": [
    "B.index = ['intercept', 'athletes', 'events']\n",
    "B"
   ]
  },
  {
   "cell_type": "code",
   "execution_count": 44,
   "metadata": {},
   "outputs": [
    {
     "data": {
      "text/html": [
       "<div>\n",
       "<style scoped>\n",
       "    .dataframe tbody tr th:only-of-type {\n",
       "        vertical-align: middle;\n",
       "    }\n",
       "\n",
       "    .dataframe tbody tr th {\n",
       "        vertical-align: top;\n",
       "    }\n",
       "\n",
       "    .dataframe thead th {\n",
       "        text-align: right;\n",
       "    }\n",
       "</style>\n",
       "<table border=\"1\" class=\"dataframe\">\n",
       "  <thead>\n",
       "    <tr style=\"text-align: right;\">\n",
       "      <th></th>\n",
       "      <th>intercept</th>\n",
       "      <th>athletes</th>\n",
       "      <th>events</th>\n",
       "    </tr>\n",
       "  </thead>\n",
       "  <tbody>\n",
       "    <tr>\n",
       "      <th>309</th>\n",
       "      <td>1</td>\n",
       "      <td>-0.553313</td>\n",
       "      <td>-0.653142</td>\n",
       "    </tr>\n",
       "    <tr>\n",
       "      <th>285</th>\n",
       "      <td>1</td>\n",
       "      <td>0.594035</td>\n",
       "      <td>1.000637</td>\n",
       "    </tr>\n",
       "    <tr>\n",
       "      <th>919</th>\n",
       "      <td>1</td>\n",
       "      <td>-0.144668</td>\n",
       "      <td>0.102288</td>\n",
       "    </tr>\n",
       "    <tr>\n",
       "      <th>120</th>\n",
       "      <td>1</td>\n",
       "      <td>0.146098</td>\n",
       "      <td>0.531045</td>\n",
       "    </tr>\n",
       "    <tr>\n",
       "      <th>585</th>\n",
       "      <td>1</td>\n",
       "      <td>-0.301839</td>\n",
       "      <td>-0.122299</td>\n",
       "    </tr>\n",
       "    <tr>\n",
       "      <th>...</th>\n",
       "      <td>...</td>\n",
       "      <td>...</td>\n",
       "      <td>...</td>\n",
       "    </tr>\n",
       "    <tr>\n",
       "      <th>541</th>\n",
       "      <td>1</td>\n",
       "      <td>-0.380425</td>\n",
       "      <td>-0.408138</td>\n",
       "    </tr>\n",
       "    <tr>\n",
       "      <th>1863</th>\n",
       "      <td>1</td>\n",
       "      <td>-0.191820</td>\n",
       "      <td>0.143122</td>\n",
       "    </tr>\n",
       "    <tr>\n",
       "      <th>622</th>\n",
       "      <td>1</td>\n",
       "      <td>-0.058224</td>\n",
       "      <td>0.388126</td>\n",
       "    </tr>\n",
       "    <tr>\n",
       "      <th>1070</th>\n",
       "      <td>1</td>\n",
       "      <td>-0.569030</td>\n",
       "      <td>-0.693976</td>\n",
       "    </tr>\n",
       "    <tr>\n",
       "      <th>1196</th>\n",
       "      <td>1</td>\n",
       "      <td>-0.553313</td>\n",
       "      <td>-0.653142</td>\n",
       "    </tr>\n",
       "  </tbody>\n",
       "</table>\n",
       "<p>403 rows × 3 columns</p>\n",
       "</div>"
      ],
      "text/plain": [
       "      intercept  athletes    events\n",
       "309           1 -0.553313 -0.653142\n",
       "285           1  0.594035  1.000637\n",
       "919           1 -0.144668  0.102288\n",
       "120           1  0.146098  0.531045\n",
       "585           1 -0.301839 -0.122299\n",
       "...         ...       ...       ...\n",
       "541           1 -0.380425 -0.408138\n",
       "1863          1 -0.191820  0.143122\n",
       "622           1 -0.058224  0.388126\n",
       "1070          1 -0.569030 -0.693976\n",
       "1196          1 -0.553313 -0.653142\n",
       "\n",
       "[403 rows x 3 columns]"
      ]
     },
     "execution_count": 44,
     "metadata": {},
     "output_type": "execute_result"
    }
   ],
   "source": [
    "# Apply to test data\n",
    "# scale the data. Use mean and std from training set since you won't usually know the data you'll be using to make predictions on when you're doing the training - According to DattQuest video on ridge regression\n",
    "test_X = test[predictors]\n",
    "test_X = (test_X - x_mean) / x_std\n",
    "test_X['intercept'] = 1\n",
    "test_X = test_X[['intercept'] + predictors]\n",
    "test_X"
   ]
  },
  {
   "cell_type": "code",
   "execution_count": 46,
   "metadata": {},
   "outputs": [
    {
     "data": {
      "text/html": [
       "<div>\n",
       "<style scoped>\n",
       "    .dataframe tbody tr th:only-of-type {\n",
       "        vertical-align: middle;\n",
       "    }\n",
       "\n",
       "    .dataframe tbody tr th {\n",
       "        vertical-align: top;\n",
       "    }\n",
       "\n",
       "    .dataframe thead th {\n",
       "        text-align: right;\n",
       "    }\n",
       "</style>\n",
       "<table border=\"1\" class=\"dataframe\">\n",
       "  <thead>\n",
       "    <tr style=\"text-align: right;\">\n",
       "      <th></th>\n",
       "      <th>medals</th>\n",
       "    </tr>\n",
       "  </thead>\n",
       "  <tbody>\n",
       "    <tr>\n",
       "      <th>309</th>\n",
       "      <td>-0.914959</td>\n",
       "    </tr>\n",
       "    <tr>\n",
       "      <th>285</th>\n",
       "      <td>12.782156</td>\n",
       "    </tr>\n",
       "    <tr>\n",
       "      <th>919</th>\n",
       "      <td>-1.799893</td>\n",
       "    </tr>\n",
       "    <tr>\n",
       "      <th>120</th>\n",
       "      <td>1.337116</td>\n",
       "    </tr>\n",
       "    <tr>\n",
       "      <th>585</th>\n",
       "      <td>-3.744014</td>\n",
       "    </tr>\n",
       "    <tr>\n",
       "      <th>...</th>\n",
       "      <td>...</td>\n",
       "    </tr>\n",
       "    <tr>\n",
       "      <th>541</th>\n",
       "      <td>1.294285</td>\n",
       "    </tr>\n",
       "    <tr>\n",
       "      <th>1863</th>\n",
       "      <td>-6.130765</td>\n",
       "    </tr>\n",
       "    <tr>\n",
       "      <th>622</th>\n",
       "      <td>-6.352080</td>\n",
       "    </tr>\n",
       "    <tr>\n",
       "      <th>1070</th>\n",
       "      <td>-0.472980</td>\n",
       "    </tr>\n",
       "    <tr>\n",
       "      <th>1196</th>\n",
       "      <td>-0.914959</td>\n",
       "    </tr>\n",
       "  </tbody>\n",
       "</table>\n",
       "<p>403 rows × 1 columns</p>\n",
       "</div>"
      ],
      "text/plain": [
       "         medals\n",
       "309   -0.914959\n",
       "285   12.782156\n",
       "919   -1.799893\n",
       "120    1.337116\n",
       "585   -3.744014\n",
       "...         ...\n",
       "541    1.294285\n",
       "1863  -6.130765\n",
       "622   -6.352080\n",
       "1070  -0.472980\n",
       "1196  -0.914959\n",
       "\n",
       "[403 rows x 1 columns]"
      ]
     },
     "execution_count": 46,
     "metadata": {},
     "output_type": "execute_result"
    }
   ],
   "source": [
    "# this is the number of medals we predict each country to win\n",
    "predictions = test_X @ B\n",
    "predictions"
   ]
  },
  {
   "cell_type": "code",
   "execution_count": null,
   "metadata": {},
   "outputs": [],
   "source": []
  },
  {
   "cell_type": "markdown",
   "metadata": {},
   "source": [
    "Now, let's compare the results to scikit-learn's ridge regression."
   ]
  },
  {
   "cell_type": "code",
   "execution_count": 47,
   "metadata": {},
   "outputs": [],
   "source": [
    "from sklearn.linear_model import Ridge\n",
    "ridge = Ridge(alpha = alpha)"
   ]
  },
  {
   "cell_type": "code",
   "execution_count": 48,
   "metadata": {},
   "outputs": [
    {
     "data": {
      "text/plain": [
       "Ridge(alpha=2)"
      ]
     },
     "execution_count": 48,
     "metadata": {},
     "output_type": "execute_result"
    }
   ],
   "source": [
    "# Don't need to pass in the itercept term in since scikit-learn will add it in on its own\n",
    "ridge.fit(X[predictors], y)"
   ]
  },
  {
   "cell_type": "markdown",
   "metadata": {},
   "source": [
    "As can be seen below, the y-intercept and coefficients here match the model we did earlier without scikit-learn!"
   ]
  },
  {
   "cell_type": "code",
   "execution_count": 52,
   "metadata": {},
   "outputs": [
    {
     "data": {
      "text/plain": [
       "array([10.69149597])"
      ]
     },
     "execution_count": 52,
     "metadata": {},
     "output_type": "execute_result"
    }
   ],
   "source": [
    "ridge.intercept_"
   ]
  },
  {
   "cell_type": "code",
   "execution_count": 53,
   "metadata": {},
   "outputs": [
    {
     "data": {
      "text/plain": [
       "array([[ 61.85773366, -34.63292036]])"
      ]
     },
     "execution_count": 53,
     "metadata": {},
     "output_type": "execute_result"
    }
   ],
   "source": [
    "ridge.coef_"
   ]
  },
  {
   "cell_type": "code",
   "execution_count": 54,
   "metadata": {},
   "outputs": [],
   "source": [
    "# check predictions\n",
    "sklearn_predictions = ridge.predict(test_X[predictors])"
   ]
  },
  {
   "cell_type": "markdown",
   "metadata": {},
   "source": [
    "When comparing the original predictions to the scikit-learn predictions, we can see that they are practically identical since the results of subtracting the two results below are extremely close to 0."
   ]
  },
  {
   "cell_type": "code",
   "execution_count": 55,
   "metadata": {},
   "outputs": [
    {
     "data": {
      "text/html": [
       "<div>\n",
       "<style scoped>\n",
       "    .dataframe tbody tr th:only-of-type {\n",
       "        vertical-align: middle;\n",
       "    }\n",
       "\n",
       "    .dataframe tbody tr th {\n",
       "        vertical-align: top;\n",
       "    }\n",
       "\n",
       "    .dataframe thead th {\n",
       "        text-align: right;\n",
       "    }\n",
       "</style>\n",
       "<table border=\"1\" class=\"dataframe\">\n",
       "  <thead>\n",
       "    <tr style=\"text-align: right;\">\n",
       "      <th></th>\n",
       "      <th>medals</th>\n",
       "    </tr>\n",
       "  </thead>\n",
       "  <tbody>\n",
       "    <tr>\n",
       "      <th>309</th>\n",
       "      <td>3.874678e-14</td>\n",
       "    </tr>\n",
       "    <tr>\n",
       "      <th>285</th>\n",
       "      <td>-1.385558e-13</td>\n",
       "    </tr>\n",
       "    <tr>\n",
       "      <th>919</th>\n",
       "      <td>-9.325873e-14</td>\n",
       "    </tr>\n",
       "    <tr>\n",
       "      <th>120</th>\n",
       "      <td>-1.405542e-13</td>\n",
       "    </tr>\n",
       "    <tr>\n",
       "      <th>585</th>\n",
       "      <td>-7.105427e-14</td>\n",
       "    </tr>\n",
       "    <tr>\n",
       "      <th>...</th>\n",
       "      <td>...</td>\n",
       "    </tr>\n",
       "    <tr>\n",
       "      <th>541</th>\n",
       "      <td>1.354472e-14</td>\n",
       "    </tr>\n",
       "    <tr>\n",
       "      <th>1863</th>\n",
       "      <td>-1.323386e-13</td>\n",
       "    </tr>\n",
       "    <tr>\n",
       "      <th>622</th>\n",
       "      <td>-1.740830e-13</td>\n",
       "    </tr>\n",
       "    <tr>\n",
       "      <th>1070</th>\n",
       "      <td>4.407585e-14</td>\n",
       "    </tr>\n",
       "    <tr>\n",
       "      <th>1196</th>\n",
       "      <td>3.874678e-14</td>\n",
       "    </tr>\n",
       "  </tbody>\n",
       "</table>\n",
       "<p>403 rows × 1 columns</p>\n",
       "</div>"
      ],
      "text/plain": [
       "            medals\n",
       "309   3.874678e-14\n",
       "285  -1.385558e-13\n",
       "919  -9.325873e-14\n",
       "120  -1.405542e-13\n",
       "585  -7.105427e-14\n",
       "...            ...\n",
       "541   1.354472e-14\n",
       "1863 -1.323386e-13\n",
       "622  -1.740830e-13\n",
       "1070  4.407585e-14\n",
       "1196  3.874678e-14\n",
       "\n",
       "[403 rows x 1 columns]"
      ]
     },
     "execution_count": 55,
     "metadata": {},
     "output_type": "execute_result"
    }
   ],
   "source": [
    "# compare the predictions from both ridge regression models\n",
    "predictions - sklearn_predictions"
   ]
  },
  {
   "cell_type": "markdown",
   "metadata": {},
   "source": [
    "Determine how to find the optimal alpha (aka lambda, λ) parameter"
   ]
  },
  {
   "cell_type": "code",
   "execution_count": 85,
   "metadata": {},
   "outputs": [],
   "source": [
    "# a lot of this is the same code from above\n",
    "def ridge_fit(train, predictors, target, alpha):\n",
    "    X = train[predictors].copy()\n",
    "    y = train[[target]].copy()\n",
    "    \n",
    "    x_mean = X.mean()\n",
    "    x_std = X.std()\n",
    "    \n",
    "    X = (X - x_mean) / x_std\n",
    "    X[\"intercept\"] = 1\n",
    "    X = X[[\"intercept\"] + predictors]\n",
    "    \n",
    "    penalty = alpha * np.identity(X.shape[1])\n",
    "    penalty[0][0] = 0\n",
    "    \n",
    "    B = np.linalg.inv(X.T @ X + penalty) @ X.T @ y\n",
    "    B.index = [\"intercept\", \"athletes\", \"events\"]\n",
    "    return B, x_mean, x_std"
   ]
  },
  {
   "cell_type": "code",
   "execution_count": 86,
   "metadata": {},
   "outputs": [],
   "source": [
    "def ridge_predict(test, predictors, x_mean, x_std, B):\n",
    "    test_X = test[predictors]\n",
    "    test_X = (test_X - x_mean) / x_std\n",
    "    test_X[\"intercept\"] = 1\n",
    "    test_X = test_X[[\"intercept\"] + predictors]\n",
    "\n",
    "    predictions = test_X @ B\n",
    "    return predictions"
   ]
  },
  {
   "cell_type": "code",
   "execution_count": 87,
   "metadata": {},
   "outputs": [],
   "source": [
    "from sklearn.metrics import mean_absolute_error"
   ]
  },
  {
   "cell_type": "code",
   "execution_count": 88,
   "metadata": {},
   "outputs": [
    {
     "data": {
      "text/plain": [
       "[0.01, 0.1, 1, 10, 100, 1000]"
      ]
     },
     "execution_count": 88,
     "metadata": {},
     "output_type": "execute_result"
    }
   ],
   "source": [
    "alphas = [10 ** i for i in range(-2,4)]\n",
    "alphas"
   ]
  },
  {
   "cell_type": "code",
   "execution_count": 91,
   "metadata": {},
   "outputs": [],
   "source": [
    "errors = []\n",
    "for alpha in alphas:\n",
    "    B, x_mean, x_std = ridge_fit(train, predictors, target, alpha)\n",
    "    predictions = ridge_predict(test, predictors, x_mean, x_std, B)\n",
    "    errors.append(mean_absolute_error(test[target], predictions))"
   ]
  },
  {
   "cell_type": "markdown",
   "metadata": {},
   "source": [
    "Look at the errors and alphas (lambdas) below. The error for an alpha of 0.01 is 6.3096; for an alpha of 0.1, the error is 6.3060; etc. The alpha of 10 gives the lowest MAE (mean absolute error), so it is the best. "
   ]
  },
  {
   "cell_type": "code",
   "execution_count": 92,
   "metadata": {},
   "outputs": [
    {
     "data": {
      "text/plain": [
       "[6.3096408301611175,\n",
       " 6.30604433195291,\n",
       " 6.2722833764316075,\n",
       " 6.114051204717743,\n",
       " 7.156811236590455,\n",
       " 6.9780545895757315]"
      ]
     },
     "execution_count": 92,
     "metadata": {},
     "output_type": "execute_result"
    }
   ],
   "source": [
    "errors"
   ]
  },
  {
   "cell_type": "code",
   "execution_count": 90,
   "metadata": {},
   "outputs": [
    {
     "data": {
      "text/plain": [
       "[0.01, 0.1, 1, 10, 100, 1000]"
      ]
     },
     "execution_count": 90,
     "metadata": {},
     "output_type": "execute_result"
    }
   ],
   "source": [
    "alphas"
   ]
  }
 ],
 "metadata": {
  "kernelspec": {
   "display_name": "Python 3",
   "language": "python",
   "name": "python3"
  },
  "language_info": {
   "codemirror_mode": {
    "name": "ipython",
    "version": 3
   },
   "file_extension": ".py",
   "mimetype": "text/x-python",
   "name": "python",
   "nbconvert_exporter": "python",
   "pygments_lexer": "ipython3",
   "version": "3.8.5"
  }
 },
 "nbformat": 4,
 "nbformat_minor": 4
}
