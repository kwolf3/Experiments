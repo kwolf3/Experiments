{
 "cells": [
  {
   "cell_type": "markdown",
   "metadata": {},
   "source": [
    "### This is an experiment following the instructions given in the YouTube video \"Linear Regression Algorithm in Python from Scratch\" by DataQuest. This is the link to the video: https://www.youtube.com/watch?v=z2hpinQggNM. There is also a GitHub page: https://github.com/dataquestio/project-walkthroughs/tree/master/linear_regression."
   ]
  },
  {
   "cell_type": "markdown",
   "metadata": {},
   "source": [
    "Create a scatter plot with athletes on the x-axis and medals on the y-axis"
   ]
  },
  {
   "cell_type": "code",
   "execution_count": null,
   "metadata": {},
   "outputs": [],
   "source": []
  },
  {
   "cell_type": "markdown",
   "metadata": {},
   "source": [
    "y^ = b<sub>0</sub> + b<sub>1</sub>x <br/> \n",
    "y^ is the predicted medals  \n",
    "b0 is the y-intercept of the line (where the line will hit the y-axis)  \n",
    "b1 is the coefficient for athletes (slope of the regression line) -- for every one athlete, how many medals are they expected to win?  \n",
    "x is the athlete count"
   ]
  },
  {
   "cell_type": "markdown",
   "metadata": {},
   "source": [
    "If there are 300 athletes, the y-intercept is -3.7, and the coefficient is 0.2, the formula would look like this:  \n",
    "y^ = -3.7 + 0.2 * 300  \n",
    "  \n",
    "One way to understand this is that the coefficient means how many medals are received per athlete. In this case, for every athlete entered into the the Olympics, it is expected that they'll win 0.2 medals.  \n",
    "  \n",
    "The predicted y (y^) is 56.4. This means that if our country enters 300 athletes into the Olympics, then we will get 56.4 medals."
   ]
  }
 ],
 "metadata": {
  "kernelspec": {
   "display_name": "Python 3",
   "language": "python",
   "name": "python3"
  },
  "language_info": {
   "codemirror_mode": {
    "name": "ipython",
    "version": 3
   },
   "file_extension": ".py",
   "mimetype": "text/x-python",
   "name": "python",
   "nbconvert_exporter": "python",
   "pygments_lexer": "ipython3",
   "version": "3.8.5"
  }
 },
 "nbformat": 4,
 "nbformat_minor": 4
}
