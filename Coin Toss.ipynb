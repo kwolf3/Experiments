{
 "cells": [
  {
   "cell_type": "markdown",
   "metadata": {},
   "source": [
    "Goal is to do four coin tosses in a row and find the probability out of 1000 tries that all of the 4 coin tosses are heads."
   ]
  },
  {
   "cell_type": "code",
   "execution_count": 16,
   "metadata": {},
   "outputs": [],
   "source": [
    "import numpy as np"
   ]
  },
  {
   "cell_type": "code",
   "execution_count": 17,
   "metadata": {},
   "outputs": [
    {
     "data": {
      "text/plain": [
       "0.072"
      ]
     },
     "execution_count": 17,
     "metadata": {},
     "output_type": "execute_result"
    }
   ],
   "source": [
    "np.random.seed(1)\n",
    "num_heads = 0\n",
    "for x in range(1000):\n",
    "    heads = np.random.random(4) < 0.5\n",
    "    tot_heads = np.sum(heads)\n",
    "    if tot_heads == 4:\n",
    "        num_heads = num_heads + 1\n",
    "        \n",
    "num_heads / 1000"
   ]
  },
  {
   "cell_type": "markdown",
   "metadata": {},
   "source": [
    "Now, try it a different way."
   ]
  },
  {
   "cell_type": "code",
   "execution_count": 18,
   "metadata": {},
   "outputs": [
    {
     "data": {
      "text/plain": [
       "0.066"
      ]
     },
     "execution_count": 18,
     "metadata": {},
     "output_type": "execute_result"
    }
   ],
   "source": [
    "np.random.seed(2)\n",
    "num_all_heads = 0\n",
    "for x in range(1000):\n",
    "    trial = 0\n",
    "    for flip in range(4):\n",
    "        head_tail = np.random.randint(0, 2)\n",
    "        trial = trial + head_tail\n",
    "    if trial == 4:\n",
    "        num_all_heads = num_all_heads + 1\n",
    "\n",
    "num_all_heads / 1000\n",
    "        "
   ]
  },
  {
   "cell_type": "markdown",
   "metadata": {},
   "source": [
    "The first version is definitely cleaner and neater than the second version, but both technically work. I think I could probably clean up the second version a little more if I tried. The main goal really was to see if I could successfully complete the task using np.random.random() (could also probably work with np.random.rand()) and np.random.randint()."
   ]
  },
  {
   "cell_type": "code",
   "execution_count": null,
   "metadata": {},
   "outputs": [],
   "source": []
  }
 ],
 "metadata": {
  "kernelspec": {
   "display_name": "Python 3",
   "language": "python",
   "name": "python3"
  },
  "language_info": {
   "codemirror_mode": {
    "name": "ipython",
    "version": 3
   },
   "file_extension": ".py",
   "mimetype": "text/x-python",
   "name": "python",
   "nbconvert_exporter": "python",
   "pygments_lexer": "ipython3",
   "version": "3.8.5"
  }
 },
 "nbformat": 4,
 "nbformat_minor": 4
}
